{
 "cells": [
  {
   "cell_type": "code",
   "execution_count": 17,
   "metadata": {
    "collapsed": true
   },
   "outputs": [],
   "source": [
    "import pandas as pd"
   ]
  },
  {
   "cell_type": "code",
   "execution_count": 18,
   "metadata": {
    "collapsed": true
   },
   "outputs": [],
   "source": [
    "voted_users = pd.read_csv(\"voted_users_details.csv\", index_col = None)"
   ]
  },
  {
   "cell_type": "code",
   "execution_count": 19,
   "metadata": {},
   "outputs": [],
   "source": [
    "del voted_users[\"Unnamed: 0\"]"
   ]
  },
  {
   "cell_type": "code",
   "execution_count": 20,
   "metadata": {},
   "outputs": [
    {
     "data": {
      "text/html": [
       "<div>\n",
       "<style scoped>\n",
       "    .dataframe tbody tr th:only-of-type {\n",
       "        vertical-align: middle;\n",
       "    }\n",
       "\n",
       "    .dataframe tbody tr th {\n",
       "        vertical-align: top;\n",
       "    }\n",
       "\n",
       "    .dataframe thead th {\n",
       "        text-align: right;\n",
       "    }\n",
       "</style>\n",
       "<table border=\"1\" class=\"dataframe\">\n",
       "  <thead>\n",
       "    <tr style=\"text-align: right;\">\n",
       "      <th></th>\n",
       "      <th>initial_user</th>\n",
       "      <th>movie_tweeting_user</th>\n",
       "      <th>similiarity_value</th>\n",
       "      <th>occurances</th>\n",
       "    </tr>\n",
       "  </thead>\n",
       "  <tbody>\n",
       "    <tr>\n",
       "      <th>0</th>\n",
       "      <td>70056</td>\n",
       "      <td>21627</td>\n",
       "      <td>0.928</td>\n",
       "      <td>60</td>\n",
       "    </tr>\n",
       "    <tr>\n",
       "      <th>1</th>\n",
       "      <td>70056</td>\n",
       "      <td>9831</td>\n",
       "      <td>0.918</td>\n",
       "      <td>161</td>\n",
       "    </tr>\n",
       "    <tr>\n",
       "      <th>2</th>\n",
       "      <td>70056</td>\n",
       "      <td>41443</td>\n",
       "      <td>0.870</td>\n",
       "      <td>503</td>\n",
       "    </tr>\n",
       "    <tr>\n",
       "      <th>3</th>\n",
       "      <td>70056</td>\n",
       "      <td>14769</td>\n",
       "      <td>0.837</td>\n",
       "      <td>460</td>\n",
       "    </tr>\n",
       "    <tr>\n",
       "      <th>4</th>\n",
       "      <td>70056</td>\n",
       "      <td>37491</td>\n",
       "      <td>0.825</td>\n",
       "      <td>583</td>\n",
       "    </tr>\n",
       "    <tr>\n",
       "      <th>5</th>\n",
       "      <td>70056</td>\n",
       "      <td>26237</td>\n",
       "      <td>0.799</td>\n",
       "      <td>212</td>\n",
       "    </tr>\n",
       "    <tr>\n",
       "      <th>6</th>\n",
       "      <td>70056</td>\n",
       "      <td>33307</td>\n",
       "      <td>0.793</td>\n",
       "      <td>250</td>\n",
       "    </tr>\n",
       "    <tr>\n",
       "      <th>7</th>\n",
       "      <td>70056</td>\n",
       "      <td>42708</td>\n",
       "      <td>0.782</td>\n",
       "      <td>69</td>\n",
       "    </tr>\n",
       "    <tr>\n",
       "      <th>8</th>\n",
       "      <td>70056</td>\n",
       "      <td>32002</td>\n",
       "      <td>0.781</td>\n",
       "      <td>187</td>\n",
       "    </tr>\n",
       "    <tr>\n",
       "      <th>9</th>\n",
       "      <td>70056</td>\n",
       "      <td>2089</td>\n",
       "      <td>0.781</td>\n",
       "      <td>201</td>\n",
       "    </tr>\n",
       "    <tr>\n",
       "      <th>10</th>\n",
       "      <td>70056</td>\n",
       "      <td>50212</td>\n",
       "      <td>0.740</td>\n",
       "      <td>16</td>\n",
       "    </tr>\n",
       "    <tr>\n",
       "      <th>11</th>\n",
       "      <td>70056</td>\n",
       "      <td>18608</td>\n",
       "      <td>0.716</td>\n",
       "      <td>149</td>\n",
       "    </tr>\n",
       "    <tr>\n",
       "      <th>12</th>\n",
       "      <td>70056</td>\n",
       "      <td>42203</td>\n",
       "      <td>0.712</td>\n",
       "      <td>338</td>\n",
       "    </tr>\n",
       "    <tr>\n",
       "      <th>13</th>\n",
       "      <td>70056</td>\n",
       "      <td>18386</td>\n",
       "      <td>0.697</td>\n",
       "      <td>289</td>\n",
       "    </tr>\n",
       "    <tr>\n",
       "      <th>14</th>\n",
       "      <td>70056</td>\n",
       "      <td>6851</td>\n",
       "      <td>0.697</td>\n",
       "      <td>231</td>\n",
       "    </tr>\n",
       "    <tr>\n",
       "      <th>15</th>\n",
       "      <td>70056</td>\n",
       "      <td>39923</td>\n",
       "      <td>0.689</td>\n",
       "      <td>78</td>\n",
       "    </tr>\n",
       "    <tr>\n",
       "      <th>16</th>\n",
       "      <td>70056</td>\n",
       "      <td>33179</td>\n",
       "      <td>0.677</td>\n",
       "      <td>13</td>\n",
       "    </tr>\n",
       "    <tr>\n",
       "      <th>17</th>\n",
       "      <td>70056</td>\n",
       "      <td>23140</td>\n",
       "      <td>0.602</td>\n",
       "      <td>39</td>\n",
       "    </tr>\n",
       "    <tr>\n",
       "      <th>18</th>\n",
       "      <td>70056</td>\n",
       "      <td>10522</td>\n",
       "      <td>0.596</td>\n",
       "      <td>45</td>\n",
       "    </tr>\n",
       "  </tbody>\n",
       "</table>\n",
       "</div>"
      ],
      "text/plain": [
       "    initial_user  movie_tweeting_user  similiarity_value  occurances\n",
       "0          70056                21627              0.928          60\n",
       "1          70056                 9831              0.918         161\n",
       "2          70056                41443              0.870         503\n",
       "3          70056                14769              0.837         460\n",
       "4          70056                37491              0.825         583\n",
       "5          70056                26237              0.799         212\n",
       "6          70056                33307              0.793         250\n",
       "7          70056                42708              0.782          69\n",
       "8          70056                32002              0.781         187\n",
       "9          70056                 2089              0.781         201\n",
       "10         70056                50212              0.740          16\n",
       "11         70056                18608              0.716         149\n",
       "12         70056                42203              0.712         338\n",
       "13         70056                18386              0.697         289\n",
       "14         70056                 6851              0.697         231\n",
       "15         70056                39923              0.689          78\n",
       "16         70056                33179              0.677          13\n",
       "17         70056                23140              0.602          39\n",
       "18         70056                10522              0.596          45"
      ]
     },
     "execution_count": 20,
     "metadata": {},
     "output_type": "execute_result"
    }
   ],
   "source": [
    "voted_users"
   ]
  },
  {
   "cell_type": "code",
   "execution_count": 36,
   "metadata": {
    "collapsed": true
   },
   "outputs": [],
   "source": [
    "sample_json = voted_users.to_json(orient = 'records')"
   ]
  },
  {
   "cell_type": "code",
   "execution_count": 37,
   "metadata": {},
   "outputs": [
    {
     "data": {
      "text/plain": [
       "[{'initial_user': 70056.0,\n",
       "  'movie_tweeting_user': 21627.0,\n",
       "  'occurances': 60.0,\n",
       "  'similiarity_value': 0.9279999999999999},\n",
       " {'initial_user': 70056.0,\n",
       "  'movie_tweeting_user': 9831.0,\n",
       "  'occurances': 161.0,\n",
       "  'similiarity_value': 0.9179999999999999},\n",
       " {'initial_user': 70056.0,\n",
       "  'movie_tweeting_user': 41443.0,\n",
       "  'occurances': 503.0,\n",
       "  'similiarity_value': 0.87},\n",
       " {'initial_user': 70056.0,\n",
       "  'movie_tweeting_user': 14769.0,\n",
       "  'occurances': 460.0,\n",
       "  'similiarity_value': 0.8370000000000001},\n",
       " {'initial_user': 70056.0,\n",
       "  'movie_tweeting_user': 37491.0,\n",
       "  'occurances': 583.0,\n",
       "  'similiarity_value': 0.825},\n",
       " {'initial_user': 70056.0,\n",
       "  'movie_tweeting_user': 26237.0,\n",
       "  'occurances': 212.0,\n",
       "  'similiarity_value': 0.799},\n",
       " {'initial_user': 70056.0,\n",
       "  'movie_tweeting_user': 33307.0,\n",
       "  'occurances': 250.0,\n",
       "  'similiarity_value': 0.7929999999999999},\n",
       " {'initial_user': 70056.0,\n",
       "  'movie_tweeting_user': 42708.0,\n",
       "  'occurances': 69.0,\n",
       "  'similiarity_value': 0.782},\n",
       " {'initial_user': 70056.0,\n",
       "  'movie_tweeting_user': 32002.0,\n",
       "  'occurances': 187.0,\n",
       "  'similiarity_value': 0.7809999999999999},\n",
       " {'initial_user': 70056.0,\n",
       "  'movie_tweeting_user': 2089.0,\n",
       "  'occurances': 201.0,\n",
       "  'similiarity_value': 0.7809999999999999},\n",
       " {'initial_user': 70056.0,\n",
       "  'movie_tweeting_user': 50212.0,\n",
       "  'occurances': 16.0,\n",
       "  'similiarity_value': 0.74},\n",
       " {'initial_user': 70056.0,\n",
       "  'movie_tweeting_user': 18608.0,\n",
       "  'occurances': 149.0,\n",
       "  'similiarity_value': 0.716},\n",
       " {'initial_user': 70056.0,\n",
       "  'movie_tweeting_user': 42203.0,\n",
       "  'occurances': 338.0,\n",
       "  'similiarity_value': 0.7120000000000001},\n",
       " {'initial_user': 70056.0,\n",
       "  'movie_tweeting_user': 18386.0,\n",
       "  'occurances': 289.0,\n",
       "  'similiarity_value': 0.6970000000000001},\n",
       " {'initial_user': 70056.0,\n",
       "  'movie_tweeting_user': 6851.0,\n",
       "  'occurances': 231.0,\n",
       "  'similiarity_value': 0.6970000000000001},\n",
       " {'initial_user': 70056.0,\n",
       "  'movie_tweeting_user': 39923.0,\n",
       "  'occurances': 78.0,\n",
       "  'similiarity_value': 0.6890000000000001},\n",
       " {'initial_user': 70056.0,\n",
       "  'movie_tweeting_user': 33179.0,\n",
       "  'occurances': 13.0,\n",
       "  'similiarity_value': 0.677},\n",
       " {'initial_user': 70056.0,\n",
       "  'movie_tweeting_user': 23140.0,\n",
       "  'occurances': 39.0,\n",
       "  'similiarity_value': 0.602},\n",
       " {'initial_user': 70056.0,\n",
       "  'movie_tweeting_user': 10522.0,\n",
       "  'occurances': 45.0,\n",
       "  'similiarity_value': 0.596}]"
      ]
     },
     "execution_count": 37,
     "metadata": {},
     "output_type": "execute_result"
    }
   ],
   "source": [
    "dict_values"
   ]
  },
  {
   "cell_type": "code",
   "execution_count": 30,
   "metadata": {},
   "outputs": [],
   "source": [
    "out = voted_users.to_json(orient='records')"
   ]
  },
  {
   "cell_type": "code",
   "execution_count": 31,
   "metadata": {},
   "outputs": [
    {
     "data": {
      "text/plain": [
       "'[{\"initial_user\":70056,\"movie_tweeting_user\":21627,\"similiarity_value\":0.928,\"occurances\":60},{\"initial_user\":70056,\"movie_tweeting_user\":9831,\"similiarity_value\":0.918,\"occurances\":161},{\"initial_user\":70056,\"movie_tweeting_user\":41443,\"similiarity_value\":0.87,\"occurances\":503},{\"initial_user\":70056,\"movie_tweeting_user\":14769,\"similiarity_value\":0.837,\"occurances\":460},{\"initial_user\":70056,\"movie_tweeting_user\":37491,\"similiarity_value\":0.825,\"occurances\":583},{\"initial_user\":70056,\"movie_tweeting_user\":26237,\"similiarity_value\":0.799,\"occurances\":212},{\"initial_user\":70056,\"movie_tweeting_user\":33307,\"similiarity_value\":0.793,\"occurances\":250},{\"initial_user\":70056,\"movie_tweeting_user\":42708,\"similiarity_value\":0.782,\"occurances\":69},{\"initial_user\":70056,\"movie_tweeting_user\":32002,\"similiarity_value\":0.781,\"occurances\":187},{\"initial_user\":70056,\"movie_tweeting_user\":2089,\"similiarity_value\":0.781,\"occurances\":201},{\"initial_user\":70056,\"movie_tweeting_user\":50212,\"similiarity_value\":0.74,\"occurances\":16},{\"initial_user\":70056,\"movie_tweeting_user\":18608,\"similiarity_value\":0.716,\"occurances\":149},{\"initial_user\":70056,\"movie_tweeting_user\":42203,\"similiarity_value\":0.712,\"occurances\":338},{\"initial_user\":70056,\"movie_tweeting_user\":18386,\"similiarity_value\":0.697,\"occurances\":289},{\"initial_user\":70056,\"movie_tweeting_user\":6851,\"similiarity_value\":0.697,\"occurances\":231},{\"initial_user\":70056,\"movie_tweeting_user\":39923,\"similiarity_value\":0.689,\"occurances\":78},{\"initial_user\":70056,\"movie_tweeting_user\":33179,\"similiarity_value\":0.677,\"occurances\":13},{\"initial_user\":70056,\"movie_tweeting_user\":23140,\"similiarity_value\":0.602,\"occurances\":39},{\"initial_user\":70056,\"movie_tweeting_user\":10522,\"similiarity_value\":0.596,\"occurances\":45}]'"
      ]
     },
     "execution_count": 31,
     "metadata": {},
     "output_type": "execute_result"
    }
   ],
   "source": [
    "out"
   ]
  },
  {
   "cell_type": "code",
   "execution_count": 23,
   "metadata": {
    "collapsed": true
   },
   "outputs": [],
   "source": [
    "with open('file_name.txt', 'w') as f:\n",
    "    f.write(out)"
   ]
  },
  {
   "cell_type": "code",
   "execution_count": 24,
   "metadata": {
    "collapsed": true
   },
   "outputs": [],
   "source": [
    "out_1 = voted_users.to_json(orient='records')[1:-1].replace('},{', '} {')"
   ]
  },
  {
   "cell_type": "code",
   "execution_count": 29,
   "metadata": {},
   "outputs": [
    {
     "data": {
      "text/plain": [
       "'{\"initial_user\":70056,\"movie_tweeting_user\":21627,\"similiarity_value\":0.928,\"occurances\":60} {\"initial_user\":70056,\"movie_tweeting_user\":9831,\"similiarity_value\":0.918,\"occurances\":161} {\"initial_user\":70056,\"movie_tweeting_user\":41443,\"similiarity_value\":0.87,\"occurances\":503} {\"initial_user\":70056,\"movie_tweeting_user\":14769,\"similiarity_value\":0.837,\"occurances\":460} {\"initial_user\":70056,\"movie_tweeting_user\":37491,\"similiarity_value\":0.825,\"occurances\":583} {\"initial_user\":70056,\"movie_tweeting_user\":26237,\"similiarity_value\":0.799,\"occurances\":212} {\"initial_user\":70056,\"movie_tweeting_user\":33307,\"similiarity_value\":0.793,\"occurances\":250} {\"initial_user\":70056,\"movie_tweeting_user\":42708,\"similiarity_value\":0.782,\"occurances\":69} {\"initial_user\":70056,\"movie_tweeting_user\":32002,\"similiarity_value\":0.781,\"occurances\":187} {\"initial_user\":70056,\"movie_tweeting_user\":2089,\"similiarity_value\":0.781,\"occurances\":201} {\"initial_user\":70056,\"movie_tweeting_user\":50212,\"similiarity_value\":0.74,\"occurances\":16} {\"initial_user\":70056,\"movie_tweeting_user\":18608,\"similiarity_value\":0.716,\"occurances\":149} {\"initial_user\":70056,\"movie_tweeting_user\":42203,\"similiarity_value\":0.712,\"occurances\":338} {\"initial_user\":70056,\"movie_tweeting_user\":18386,\"similiarity_value\":0.697,\"occurances\":289} {\"initial_user\":70056,\"movie_tweeting_user\":6851,\"similiarity_value\":0.697,\"occurances\":231} {\"initial_user\":70056,\"movie_tweeting_user\":39923,\"similiarity_value\":0.689,\"occurances\":78} {\"initial_user\":70056,\"movie_tweeting_user\":33179,\"similiarity_value\":0.677,\"occurances\":13} {\"initial_user\":70056,\"movie_tweeting_user\":23140,\"similiarity_value\":0.602,\"occurances\":39} {\"initial_user\":70056,\"movie_tweeting_user\":10522,\"similiarity_value\":0.596,\"occurances\":45}'"
      ]
     },
     "execution_count": 29,
     "metadata": {},
     "output_type": "execute_result"
    }
   ],
   "source": [
    "out_1"
   ]
  },
  {
   "cell_type": "code",
   "execution_count": 33,
   "metadata": {
    "scrolled": true
   },
   "outputs": [
    {
     "ename": "ValueError",
     "evalue": "Invalid value 'column' for option 'orient'",
     "output_type": "error",
     "traceback": [
      "\u001b[0;31m---------------------------------------------------------------------------\u001b[0m",
      "\u001b[0;31mValueError\u001b[0m                                Traceback (most recent call last)",
      "\u001b[0;32m<ipython-input-33-737e05fdc0ef>\u001b[0m in \u001b[0;36m<module>\u001b[0;34m()\u001b[0m\n\u001b[0;32m----> 1\u001b[0;31m \u001b[0mou_3t\u001b[0m \u001b[0;34m=\u001b[0m \u001b[0mvoted_users\u001b[0m\u001b[0;34m.\u001b[0m\u001b[0mto_json\u001b[0m\u001b[0;34m(\u001b[0m\u001b[0morient\u001b[0m\u001b[0;34m=\u001b[0m\u001b[0;34m'column'\u001b[0m\u001b[0;34m)\u001b[0m\u001b[0;34m\u001b[0m\u001b[0m\n\u001b[0m",
      "\u001b[0;32m~/anaconda3/lib/python3.6/site-packages/pandas/core/generic.py\u001b[0m in \u001b[0;36mto_json\u001b[0;34m(self, path_or_buf, orient, date_format, double_precision, force_ascii, date_unit, default_handler, lines, compression)\u001b[0m\n\u001b[1;32m   1415\u001b[0m                             \u001b[0mforce_ascii\u001b[0m\u001b[0;34m=\u001b[0m\u001b[0mforce_ascii\u001b[0m\u001b[0;34m,\u001b[0m \u001b[0mdate_unit\u001b[0m\u001b[0;34m=\u001b[0m\u001b[0mdate_unit\u001b[0m\u001b[0;34m,\u001b[0m\u001b[0;34m\u001b[0m\u001b[0m\n\u001b[1;32m   1416\u001b[0m                             \u001b[0mdefault_handler\u001b[0m\u001b[0;34m=\u001b[0m\u001b[0mdefault_handler\u001b[0m\u001b[0;34m,\u001b[0m\u001b[0;34m\u001b[0m\u001b[0m\n\u001b[0;32m-> 1417\u001b[0;31m                             lines=lines, compression=compression)\n\u001b[0m\u001b[1;32m   1418\u001b[0m \u001b[0;34m\u001b[0m\u001b[0m\n\u001b[1;32m   1419\u001b[0m     \u001b[0;32mdef\u001b[0m \u001b[0mto_hdf\u001b[0m\u001b[0;34m(\u001b[0m\u001b[0mself\u001b[0m\u001b[0;34m,\u001b[0m \u001b[0mpath_or_buf\u001b[0m\u001b[0;34m,\u001b[0m \u001b[0mkey\u001b[0m\u001b[0;34m,\u001b[0m \u001b[0;34m**\u001b[0m\u001b[0mkwargs\u001b[0m\u001b[0;34m)\u001b[0m\u001b[0;34m:\u001b[0m\u001b[0;34m\u001b[0m\u001b[0m\n",
      "\u001b[0;32m~/anaconda3/lib/python3.6/site-packages/pandas/io/json/json.py\u001b[0m in \u001b[0;36mto_json\u001b[0;34m(path_or_buf, obj, orient, date_format, double_precision, force_ascii, date_unit, default_handler, lines, compression)\u001b[0m\n\u001b[1;32m     50\u001b[0m         \u001b[0mobj\u001b[0m\u001b[0;34m,\u001b[0m \u001b[0morient\u001b[0m\u001b[0;34m=\u001b[0m\u001b[0morient\u001b[0m\u001b[0;34m,\u001b[0m \u001b[0mdate_format\u001b[0m\u001b[0;34m=\u001b[0m\u001b[0mdate_format\u001b[0m\u001b[0;34m,\u001b[0m\u001b[0;34m\u001b[0m\u001b[0m\n\u001b[1;32m     51\u001b[0m         \u001b[0mdouble_precision\u001b[0m\u001b[0;34m=\u001b[0m\u001b[0mdouble_precision\u001b[0m\u001b[0;34m,\u001b[0m \u001b[0mensure_ascii\u001b[0m\u001b[0;34m=\u001b[0m\u001b[0mforce_ascii\u001b[0m\u001b[0;34m,\u001b[0m\u001b[0;34m\u001b[0m\u001b[0m\n\u001b[0;32m---> 52\u001b[0;31m         date_unit=date_unit, default_handler=default_handler).write()\n\u001b[0m\u001b[1;32m     53\u001b[0m \u001b[0;34m\u001b[0m\u001b[0m\n\u001b[1;32m     54\u001b[0m     \u001b[0;32mif\u001b[0m \u001b[0mlines\u001b[0m\u001b[0;34m:\u001b[0m\u001b[0;34m\u001b[0m\u001b[0m\n",
      "\u001b[0;32m~/anaconda3/lib/python3.6/site-packages/pandas/io/json/json.py\u001b[0m in \u001b[0;36mwrite\u001b[0;34m(self)\u001b[0m\n\u001b[1;32m     97\u001b[0m             \u001b[0mdate_unit\u001b[0m\u001b[0;34m=\u001b[0m\u001b[0mself\u001b[0m\u001b[0;34m.\u001b[0m\u001b[0mdate_unit\u001b[0m\u001b[0;34m,\u001b[0m\u001b[0;34m\u001b[0m\u001b[0m\n\u001b[1;32m     98\u001b[0m             \u001b[0miso_dates\u001b[0m\u001b[0;34m=\u001b[0m\u001b[0mself\u001b[0m\u001b[0;34m.\u001b[0m\u001b[0mdate_format\u001b[0m \u001b[0;34m==\u001b[0m \u001b[0;34m'iso'\u001b[0m\u001b[0;34m,\u001b[0m\u001b[0;34m\u001b[0m\u001b[0m\n\u001b[0;32m---> 99\u001b[0;31m             \u001b[0mdefault_handler\u001b[0m\u001b[0;34m=\u001b[0m\u001b[0mself\u001b[0m\u001b[0;34m.\u001b[0m\u001b[0mdefault_handler\u001b[0m\u001b[0;34m\u001b[0m\u001b[0m\n\u001b[0m\u001b[1;32m    100\u001b[0m         )\n\u001b[1;32m    101\u001b[0m \u001b[0;34m\u001b[0m\u001b[0m\n",
      "\u001b[0;31mValueError\u001b[0m: Invalid value 'column' for option 'orient'"
     ]
    }
   ],
   "source": [
    "ou_3t = voted_users.to_json(orient='column')"
   ]
  },
  {
   "cell_type": "code",
   "execution_count": null,
   "metadata": {
    "collapsed": true
   },
   "outputs": [],
   "source": []
  }
 ],
 "metadata": {
  "kernelspec": {
   "display_name": "Python 3",
   "language": "python",
   "name": "python3"
  },
  "language_info": {
   "codemirror_mode": {
    "name": "ipython",
    "version": 3
   },
   "file_extension": ".py",
   "mimetype": "text/x-python",
   "name": "python",
   "nbconvert_exporter": "python",
   "pygments_lexer": "ipython3",
   "version": "3.6.3"
  }
 },
 "nbformat": 4,
 "nbformat_minor": 2
}
